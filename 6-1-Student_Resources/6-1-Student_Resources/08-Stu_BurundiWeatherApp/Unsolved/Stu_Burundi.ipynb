{
 "cells": [
  {
   "cell_type": "code",
   "execution_count": 1,
   "metadata": {},
   "outputs": [],
   "source": [
    "# Dependencies\n",
    "import requests\n",
    "from config import api_key"
   ]
  },
  {
   "cell_type": "code",
   "execution_count": 2,
   "metadata": {},
   "outputs": [
    {
     "name": "stdout",
     "output_type": "stream",
     "text": [
      "{'coord': {'lon': 29.3644, 'lat': -3.3822}, 'weather': [{'id': 804, 'main': 'Clouds', 'description': 'overcast clouds', 'icon': '04n'}], 'base': 'stations', 'main': {'temp': 23.06, 'feels_like': 23.07, 'temp_min': 23.06, 'temp_max': 23.06, 'pressure': 1015, 'humidity': 63, 'sea_level': 1015, 'grnd_level': 926}, 'visibility': 10000, 'wind': {'speed': 1.58, 'deg': 147, 'gust': 3.98}, 'clouds': {'all': 92}, 'dt': 1657673587, 'sys': {'country': 'BI', 'sunrise': 1657685394, 'sunset': 1657728372}, 'timezone': 7200, 'id': 425378, 'name': 'Bujumbura', 'cod': 200}\n"
     ]
    }
   ],
   "source": [
    "# Build query URL and request your results in Celsius\n",
    "url = \"http://api.openweathermap.org/data/2.5/weather?units=metric\"\n",
    "city = \"Bujumbura\"\n",
    "\n",
    "# Get weather data\n",
    "query_url = url + \"&appid=\" + api_key + \"&q=\" + city\n",
    "\n",
    "bujumbura_weather = requests.get(query_url).json()\n",
    "print(bujumbura_weather)"
   ]
  },
  {
   "cell_type": "code",
   "execution_count": 5,
   "metadata": {},
   "outputs": [],
   "source": [
    "# Get temperature from JSON response\n",
    "bujumbura_temperature = bujumbura_weather[\"main\"][\"temp\"]"
   ]
  },
  {
   "cell_type": "code",
   "execution_count": 6,
   "metadata": {},
   "outputs": [
    {
     "name": "stdout",
     "output_type": "stream",
     "text": [
      "23.06\n"
     ]
    }
   ],
   "source": [
    "# Report temperature\n",
    "print(bujumbura_temperature)"
   ]
  },
  {
   "cell_type": "code",
   "execution_count": null,
   "metadata": {},
   "outputs": [],
   "source": []
  }
 ],
 "metadata": {
  "kernelspec": {
   "display_name": "Python 3 (ipykernel)",
   "language": "python",
   "name": "python3"
  },
  "language_info": {
   "codemirror_mode": {
    "name": "ipython",
    "version": 3
   },
   "file_extension": ".py",
   "mimetype": "text/x-python",
   "name": "python",
   "nbconvert_exporter": "python",
   "pygments_lexer": "ipython3",
   "version": "3.7.13"
  },
  "varInspector": {
   "cols": {
    "lenName": 16,
    "lenType": 16,
    "lenVar": 40
   },
   "kernels_config": {
    "python": {
     "delete_cmd_postfix": "",
     "delete_cmd_prefix": "del ",
     "library": "var_list.py",
     "varRefreshCmd": "print(var_dic_list())"
    },
    "r": {
     "delete_cmd_postfix": ") ",
     "delete_cmd_prefix": "rm(",
     "library": "var_list.r",
     "varRefreshCmd": "cat(var_dic_list()) "
    }
   },
   "types_to_exclude": [
    "module",
    "function",
    "builtin_function_or_method",
    "instance",
    "_Feature"
   ],
   "window_display": false
  }
 },
 "nbformat": 4,
 "nbformat_minor": 2
}
