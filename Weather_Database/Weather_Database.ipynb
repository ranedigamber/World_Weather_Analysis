{
 "cells": [
  {
   "cell_type": "code",
   "execution_count": 1,
   "id": "87eb036d",
   "metadata": {
    "scrolled": true
   },
   "outputs": [],
   "source": [
    "# Import dependencies\n",
    "import pandas as pd\n",
    "import numpy as np\n",
    "import matplotlib as plt\n",
    "import random\n",
    "from citipy import citipy\n",
    "from datetime import datetime \n",
    "from config import weather_api_key\n",
    "import requests\n",
    "from config import weather_api_key\n",
    "import time"
   ]
  },
  {
   "cell_type": "code",
   "execution_count": null,
   "id": "f8e33e0a",
   "metadata": {},
   "outputs": [],
   "source": [
    "#Create a set of random latitude and longitude combinations.\n",
    "lats = np.random.uniform(-90.000, 90.000, size=2000)\n",
    "lngs = np.random.uniform(-180.000, 180.000, size=2000)\n",
    "lat_lngs = zip(lats, lngs)\n",
    "lat_lngs\n"
   ]
  },
  {
   "cell_type": "code",
   "execution_count": null,
   "id": "649cbf00",
   "metadata": {},
   "outputs": [],
   "source": [
    "#Add the latitudes and longitudes to a list\n",
    "coordinates = list(lat_lngs)"
   ]
  },
  {
   "cell_type": "code",
   "execution_count": null,
   "id": "57f7ee64",
   "metadata": {},
   "outputs": [],
   "source": [
    "# Create a list for holding the cities.\n",
    "cities = []\n",
    "\n",
    "# Identify the nearest city for each latitude and longitude combination. \n",
    "for coordinate in coordinates: \n",
    "    city =citipy.nearest_city(coordinate[0], coordinate[1])\n",
    "    city_name = city.city_name\n",
    "    country_name = city.country_code\n",
    "    \n",
    "    # If the city is unique, then we will add it to the cities list. \n",
    "    if city_name not in cities:\n",
    "        cities.append(city_name)\n",
    "    \n",
    "    #print(f'{city_name}, {country_name}')\n",
    "        \n",
    "#print the city count to confirm sufficient count.\n",
    "len(cities)"
   ]
  },
  {
   "cell_type": "code",
   "execution_count": null,
   "id": "bb412529",
   "metadata": {},
   "outputs": [],
   "source": [
    "# Starting URL for weather Map API Call.\n",
    "url = \"http://api.openweathermap.org/data/2.5/weather?units=Imperial&APPID=\" + weather_api_key\n",
    "\n",
    "#Create an empty list to hold weather data.\n",
    "city_data = []\n",
    "\n",
    "#Print the beginning of the logging\n",
    "print(\"Beginning Data Retrieval   \")\n",
    "print(\"---------------------------\")\n",
    "\n",
    "#Create counters.\n",
    "record_count = 1\n",
    "set_count = 1"
   ]
  },
  {
   "cell_type": "code",
   "execution_count": null,
   "id": "f55a41d8",
   "metadata": {},
   "outputs": [],
   "source": [
    "# Loop through city lists\n",
    "for i, city in enumerate(cities):\n",
    "    \n",
    "    #Group cities in sets of 50\n",
    "    if (i % 50 == 0 and i >= 50):\n",
    "        set_count += 1\n",
    "        record_count += 1\n",
    "        \n",
    "    #Create URL for each city\n",
    "    city_url = url + \"&q=\" + city.replace(\" \",\"+\")\n",
    "    \n",
    "    # Log URL, set, and record numbers for each city\n",
    "    print(f\"Processing Record {record_count} of Set {set_count} | {city}\")\n",
    "    record_count += 1\n",
    "    \n",
    "# Make an API request for each city\n",
    "    try:\n",
    "        \n",
    "        #Parse the JSON data\n",
    "        city_weather = requests.get(city_url).json()\n",
    "        \n",
    "        #Compile needed data\n",
    "        city_city = city.title()\n",
    "        city_country = city_weather['sys']['country']\n",
    "        city_date = datetime.utcfromtimestamp(city_weather['dt']).strftime('%Y-%m-%d %H:%M:%S')\n",
    "        city_lat = city_weather['coord']['lat']\n",
    "        city_lng = city_weather['coord']['lon']\n",
    "        city_max_temp = city_weather['main']['temp_max']\n",
    "        city_hum = city_weather['main']['humidity']\n",
    "        city_cloud = city_weather['clouds']['all']\n",
    "        city_wind = city_weather['wind']['speed']\n",
    "        city_desc = city_weather['weather'][0]['description']\n",
    "        \n",
    "        #Fill city data list\n",
    "        city_data.append({\"City\": city_city,\n",
    "                         \"Country\": city_country,\n",
    "                         \"Date\": city_date,\n",
    "                         \"Lat\": city_lat,\n",
    "                         \"Lng\": city_lng,\n",
    "                         \"Max_Temp\": city_max_temp,\n",
    "                         \"Humidity\": city_hum,\n",
    "                         \"Cloudiness\": city_cloud,\n",
    "                         \"Wind Speed\": city_wind,\n",
    "                         \"Current Description\": city_desc\n",
    "                         })\n",
    "\n",
    "    #If an error occurs\n",
    "    except:\n",
    "        print(\"City not found. Skipping\")\n",
    "        pass\n",
    "    \n",
    "    #Complete data retriveal\n",
    "print(\"------------------------------\")\n",
    "print(\"Data Retriveal Complete       \")\n",
    "print(\"------------------------------\")\n",
    "\n"
   ]
  },
  {
   "cell_type": "code",
   "execution_count": null,
   "id": "3064b227",
   "metadata": {},
   "outputs": [],
   "source": [
    "len(city_data)"
   ]
  },
  {
   "cell_type": "code",
   "execution_count": null,
   "id": "7f408fa4",
   "metadata": {},
   "outputs": [],
   "source": [
    "#Creating a DataFrame\n",
    "city_data_df = pd.DataFrame(city_data)\n",
    "city_data_df.head(10)"
   ]
  },
  {
   "cell_type": "code",
   "execution_count": null,
   "id": "0d3ece36",
   "metadata": {},
   "outputs": [],
   "source": [
    "#Create csv file of the DataFrame\n",
    "csv_weather_file = \"WeatherPy_Database.csv\"\n",
    "\n",
    "#Export CSV file\n",
    "city_data_df.to_csv(csv_weather_file, index_label=\"City_ID\")\n"
   ]
  },
  {
   "cell_type": "code",
   "execution_count": null,
   "id": "fafd4341",
   "metadata": {},
   "outputs": [],
   "source": []
  }
 ],
 "metadata": {
  "kernelspec": {
   "display_name": "PythonData",
   "language": "python",
   "name": "pythondata"
  },
  "language_info": {
   "codemirror_mode": {
    "name": "ipython",
    "version": 3
   },
   "file_extension": ".py",
   "mimetype": "text/x-python",
   "name": "python",
   "nbconvert_exporter": "python",
   "pygments_lexer": "ipython3",
   "version": "3.7.13"
  }
 },
 "nbformat": 4,
 "nbformat_minor": 5
}
