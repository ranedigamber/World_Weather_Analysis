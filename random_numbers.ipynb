{
 "cells": [
  {
   "cell_type": "code",
   "execution_count": 28,
   "id": "8a313e53",
   "metadata": {},
   "outputs": [],
   "source": [
    "import random\n",
    "import numpy as np\n",
    "import timeit"
   ]
  },
  {
   "cell_type": "code",
   "execution_count": 29,
   "id": "fe1a804d",
   "metadata": {},
   "outputs": [
    {
     "data": {
      "text/plain": [
       "-2"
      ]
     },
     "execution_count": 29,
     "metadata": {},
     "output_type": "execute_result"
    }
   ],
   "source": [
    "random.randint(-90,90)"
   ]
  },
  {
   "cell_type": "code",
   "execution_count": 30,
   "id": "b4fc1627",
   "metadata": {},
   "outputs": [
    {
     "data": {
      "text/plain": [
       "0.01222558871137669"
      ]
     },
     "execution_count": 30,
     "metadata": {},
     "output_type": "execute_result"
    }
   ],
   "source": [
    "random.random()"
   ]
  },
  {
   "cell_type": "code",
   "execution_count": 31,
   "id": "5a9fd3be",
   "metadata": {
    "scrolled": true
   },
   "outputs": [
    {
     "data": {
      "text/plain": [
       "-21.638111085909102"
      ]
     },
     "execution_count": 31,
     "metadata": {},
     "output_type": "execute_result"
    }
   ],
   "source": [
    "random.uniform(-90,90)"
   ]
  },
  {
   "cell_type": "code",
   "execution_count": 32,
   "id": "a8791d7f",
   "metadata": {},
   "outputs": [
    {
     "data": {
      "text/plain": [
       "84.56361376670415"
      ]
     },
     "execution_count": 32,
     "metadata": {},
     "output_type": "execute_result"
    }
   ],
   "source": [
    "random_number = random.randint(-90,89) + random.random()\n",
    "random_number"
   ]
  },
  {
   "cell_type": "code",
   "execution_count": 40,
   "id": "06f3aa7c",
   "metadata": {},
   "outputs": [
    {
     "data": {
      "text/plain": [
       "[59.97668269859202,\n",
       " -69.38687355323539,\n",
       " -65.60845901931295,\n",
       " 44.7939544038873,\n",
       " -72.36576321894374,\n",
       " 83.21407436490618,\n",
       " 79.3367708663862,\n",
       " 21.850672299020502,\n",
       " -32.876218768780795,\n",
       " 11.837697106412621]"
      ]
     },
     "execution_count": 40,
     "metadata": {},
     "output_type": "execute_result"
    }
   ],
   "source": [
    "x=1\n",
    "latitudes=[]\n",
    "while x<11:\n",
    "    randon_lat = random.randint(-90,89)+random.random()\n",
    "    latitudes.append(randon_lat)\n",
    "    x+=1\n",
    "latitudes\n"
   ]
  },
  {
   "cell_type": "code",
   "execution_count": 34,
   "id": "4cbcc14b",
   "metadata": {
    "scrolled": false
   },
   "outputs": [
    {
     "data": {
      "text/plain": [
       "-18"
      ]
     },
     "execution_count": 34,
     "metadata": {},
     "output_type": "execute_result"
    }
   ],
   "source": [
    "random.randrange(-90,90, step=3)"
   ]
  },
  {
   "cell_type": "code",
   "execution_count": 37,
   "id": "c408ca84",
   "metadata": {},
   "outputs": [
    {
     "name": "stdout",
     "output_type": "stream",
     "text": [
      "4.31 µs ± 81.7 ns per loop (mean ± std. dev. of 7 runs, 100000 loops each)\n"
     ]
    }
   ],
   "source": [
    "%timeit np.random.uniform(-90, 90, size=50)"
   ]
  },
  {
   "cell_type": "code",
   "execution_count": 45,
   "id": "acd445a2",
   "metadata": {},
   "outputs": [
    {
     "name": "stdout",
     "output_type": "stream",
     "text": [
      "2.45 ms ± 37.2 µs per loop (mean ± std. dev. of 7 runs, 100 loops each)\n"
     ]
    }
   ],
   "source": [
    "def latitudes(size):\n",
    "    latitudes = []\n",
    "    x = 0\n",
    "    while x<(size):\n",
    "        random_lat = random.randint(-90, 90) +random.random()\n",
    "        latitudes.append(random_lat)\n",
    "        x+=1\n",
    "    return latitudes\n",
    "%timeit latitudes(1500)"
   ]
  },
  {
   "cell_type": "code",
   "execution_count": 46,
   "id": "bdf8f290",
   "metadata": {},
   "outputs": [
    {
     "name": "stdout",
     "output_type": "stream",
     "text": [
      "2.54 ms ± 52.8 µs per loop (mean ± std. dev. of 7 runs, 100 loops each)\n"
     ]
    }
   ],
   "source": [
    "#Skill drill\n",
    "def longitudes(size):\n",
    "    longitudes = []\n",
    "    x=0\n",
    "    while x<(size):\n",
    "        random_lon =random.randint(-180,180)+random.random()\n",
    "        longitudes.append(random_lon)\n",
    "        x+=1\n",
    "    return longitudes\n",
    "%timeit longitudes(1500)"
   ]
  },
  {
   "cell_type": "code",
   "execution_count": 48,
   "id": "6eb54ca6",
   "metadata": {},
   "outputs": [
    {
     "name": "stdout",
     "output_type": "stream",
     "text": [
      "16 µs ± 248 ns per loop (mean ± std. dev. of 7 runs, 100000 loops each)\n"
     ]
    }
   ],
   "source": [
    "%timeit np.random.uniform(-180, 180, size=1500)"
   ]
  },
  {
   "cell_type": "code",
   "execution_count": null,
   "id": "314fc928",
   "metadata": {},
   "outputs": [],
   "source": []
  }
 ],
 "metadata": {
  "kernelspec": {
   "display_name": "PythonData",
   "language": "python",
   "name": "pythondata"
  },
  "language_info": {
   "codemirror_mode": {
    "name": "ipython",
    "version": 3
   },
   "file_extension": ".py",
   "mimetype": "text/x-python",
   "name": "python",
   "nbconvert_exporter": "python",
   "pygments_lexer": "ipython3",
   "version": "3.7.13"
  }
 },
 "nbformat": 4,
 "nbformat_minor": 5
}
